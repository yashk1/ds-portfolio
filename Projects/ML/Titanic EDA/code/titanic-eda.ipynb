{
 "cells": [
  {
   "cell_type": "code",
   "execution_count": 1,
   "id": "eafd4593",
   "metadata": {
    "_cell_guid": "b1076dfc-b9ad-4769-8c92-a6c4dae69d19",
    "_kg_hide-input": true,
    "_uuid": "8f2839f25d086af736a60e9eeb907d3b93b6e0e5",
    "execution": {
     "iopub.execute_input": "2021-11-03T21:57:54.793026Z",
     "iopub.status.busy": "2021-11-03T21:57:54.792367Z",
     "iopub.status.idle": "2021-11-03T21:57:54.802784Z",
     "shell.execute_reply": "2021-11-03T21:57:54.802132Z",
     "shell.execute_reply.started": "2021-11-03T21:45:30.005373Z"
    },
    "papermill": {
     "duration": 0.048587,
     "end_time": "2021-11-03T21:57:54.802971",
     "exception": false,
     "start_time": "2021-11-03T21:57:54.754384",
     "status": "completed"
    },
    "tags": []
   },
   "outputs": [
    {
     "name": "stdout",
     "output_type": "stream",
     "text": [
      "/kaggle/input/titanic/train.csv\n",
      "/kaggle/input/titanic/test.csv\n",
      "/kaggle/input/titanic/gender_submission.csv\n"
     ]
    }
   ],
   "source": [
    "# This Python 3 environment comes with many helpful analytics libraries installed\n",
    "# It is defined by the kaggle/python Docker image: https://github.com/kaggle/docker-python\n",
    "# For example, here's several helpful packages to load\n",
    "\n",
    "import numpy as np # linear algebra\n",
    "import pandas as pd # data processing, CSV file I/O (e.g. pd.read_csv)\n",
    "\n",
    "# Input data files are available in the read-only \"../input/\" directory\n",
    "# For example, running this (by clicking run or pressing Shift+Enter) will list all files under the input directory\n",
    "\n",
    "import os\n",
    "for dirname, _, filenames in os.walk('/kaggle/input'):\n",
    "    for filename in filenames:\n",
    "        print(os.path.join(dirname, filename))\n",
    "\n",
    "# You can write up to 20GB to the current directory (/kaggle/working/) that gets preserved as output when you create a version using \"Save & Run All\" \n",
    "# You can also write temporary files to /kaggle/temp/, but they won't be saved outside of the current session"
   ]
  },
  {
   "cell_type": "markdown",
   "id": "b9d57f4a",
   "metadata": {
    "papermill": {
     "duration": 0.029259,
     "end_time": "2021-11-03T21:57:54.864305",
     "exception": false,
     "start_time": "2021-11-03T21:57:54.835046",
     "status": "completed"
    },
    "tags": []
   },
   "source": [
    "![](http://www.hakaimagazine.com/wp-content/uploads/header-titanic-solar-storms.jpg)"
   ]
  },
  {
   "cell_type": "markdown",
   "id": "c339dd93",
   "metadata": {
    "papermill": {
     "duration": 0.029055,
     "end_time": "2021-11-03T21:57:54.924246",
     "exception": false,
     "start_time": "2021-11-03T21:57:54.895191",
     "status": "completed"
    },
    "tags": []
   },
   "source": [
    "# Titanic  \n",
    "Problem - Use machine learning to create a model that predicts which passengers survived the Titanic shipwreck.\n",
    "\n",
    "Question to answer- What sorts of people were more likely to survive? "
   ]
  },
  {
   "cell_type": "markdown",
   "id": "e5c6234e",
   "metadata": {
    "papermill": {
     "duration": 0.028582,
     "end_time": "2021-11-03T21:57:54.982830",
     "exception": false,
     "start_time": "2021-11-03T21:57:54.954248",
     "status": "completed"
    },
    "tags": []
   },
   "source": [
    "### 1. Importing libraries "
   ]
  },
  {
   "cell_type": "code",
   "execution_count": 2,
   "id": "696ae697",
   "metadata": {
    "execution": {
     "iopub.execute_input": "2021-11-03T21:57:55.044997Z",
     "iopub.status.busy": "2021-11-03T21:57:55.044335Z",
     "iopub.status.idle": "2021-11-03T21:57:55.988931Z",
     "shell.execute_reply": "2021-11-03T21:57:55.989478Z",
     "shell.execute_reply.started": "2021-11-03T21:45:32.212219Z"
    },
    "papermill": {
     "duration": 0.977092,
     "end_time": "2021-11-03T21:57:55.989654",
     "exception": false,
     "start_time": "2021-11-03T21:57:55.012562",
     "status": "completed"
    },
    "tags": []
   },
   "outputs": [],
   "source": [
    "import pandas as pd \n",
    "import numpy as np \n",
    "import matplotlib.pyplot as plt\n",
    "import seaborn as sns\n",
    "import missingno\n",
    "%matplotlib inline"
   ]
  },
  {
   "cell_type": "markdown",
   "id": "b91d05a1",
   "metadata": {
    "papermill": {
     "duration": 0.029541,
     "end_time": "2021-11-03T21:57:56.048450",
     "exception": false,
     "start_time": "2021-11-03T21:57:56.018909",
     "status": "completed"
    },
    "tags": []
   },
   "source": [
    "### 2. Loading Dataset\n",
    "\n",
    "We are provided with train and test data csv files. \n",
    "\n",
    "Dividing the dataset into train and test set helps in training our model on \"train\" dataset and testing out model or predicting out \"target\" variable on \"test\" dataset. By doing this, we are trying to test our model on unseen or unbiased data which helps in avoiding overfitting."
   ]
  },
  {
   "cell_type": "code",
   "execution_count": 3,
   "id": "b0315a17",
   "metadata": {
    "execution": {
     "iopub.execute_input": "2021-11-03T21:57:56.110926Z",
     "iopub.status.busy": "2021-11-03T21:57:56.110021Z",
     "iopub.status.idle": "2021-11-03T21:57:56.140139Z",
     "shell.execute_reply": "2021-11-03T21:57:56.141243Z",
     "shell.execute_reply.started": "2021-11-03T21:45:33.581850Z"
    },
    "papermill": {
     "duration": 0.064041,
     "end_time": "2021-11-03T21:57:56.141506",
     "exception": false,
     "start_time": "2021-11-03T21:57:56.077465",
     "status": "completed"
    },
    "tags": []
   },
   "outputs": [
    {
     "name": "stdout",
     "output_type": "stream",
     "text": [
      "Training dataset contains: (891, 12) rows and columns\n",
      "Testing dataset contains: (418, 11) rows and columns\n"
     ]
    }
   ],
   "source": [
    "train_data = pd.read_csv('/kaggle/input/titanic/train.csv')\n",
    "test_data = pd.read_csv('/kaggle/input/titanic/test.csv')\n",
    "\n",
    "print(\"Training dataset contains: \"+str(train_data.shape)+ \" rows and columns\")\n",
    "print(\"Testing dataset contains: \"+str(test_data.shape)+ \" rows and columns\")"
   ]
  },
  {
   "cell_type": "code",
   "execution_count": 4,
   "id": "0921eb0e",
   "metadata": {
    "execution": {
     "iopub.execute_input": "2021-11-03T21:57:56.210543Z",
     "iopub.status.busy": "2021-11-03T21:57:56.209873Z",
     "iopub.status.idle": "2021-11-03T21:57:56.227963Z",
     "shell.execute_reply": "2021-11-03T21:57:56.228476Z",
     "shell.execute_reply.started": "2021-11-03T21:45:34.550120Z"
    },
    "papermill": {
     "duration": 0.056583,
     "end_time": "2021-11-03T21:57:56.228652",
     "exception": false,
     "start_time": "2021-11-03T21:57:56.172069",
     "status": "completed"
    },
    "tags": []
   },
   "outputs": [
    {
     "data": {
      "text/html": [
       "<div>\n",
       "<style scoped>\n",
       "    .dataframe tbody tr th:only-of-type {\n",
       "        vertical-align: middle;\n",
       "    }\n",
       "\n",
       "    .dataframe tbody tr th {\n",
       "        vertical-align: top;\n",
       "    }\n",
       "\n",
       "    .dataframe thead th {\n",
       "        text-align: right;\n",
       "    }\n",
       "</style>\n",
       "<table border=\"1\" class=\"dataframe\">\n",
       "  <thead>\n",
       "    <tr style=\"text-align: right;\">\n",
       "      <th></th>\n",
       "      <th>PassengerId</th>\n",
       "      <th>Survived</th>\n",
       "      <th>Pclass</th>\n",
       "      <th>Name</th>\n",
       "      <th>Sex</th>\n",
       "      <th>Age</th>\n",
       "      <th>SibSp</th>\n",
       "      <th>Parch</th>\n",
       "      <th>Ticket</th>\n",
       "      <th>Fare</th>\n",
       "      <th>Cabin</th>\n",
       "      <th>Embarked</th>\n",
       "    </tr>\n",
       "  </thead>\n",
       "  <tbody>\n",
       "    <tr>\n",
       "      <th>0</th>\n",
       "      <td>1</td>\n",
       "      <td>0</td>\n",
       "      <td>3</td>\n",
       "      <td>Braund, Mr. Owen Harris</td>\n",
       "      <td>male</td>\n",
       "      <td>22.0</td>\n",
       "      <td>1</td>\n",
       "      <td>0</td>\n",
       "      <td>A/5 21171</td>\n",
       "      <td>7.2500</td>\n",
       "      <td>NaN</td>\n",
       "      <td>S</td>\n",
       "    </tr>\n",
       "    <tr>\n",
       "      <th>1</th>\n",
       "      <td>2</td>\n",
       "      <td>1</td>\n",
       "      <td>1</td>\n",
       "      <td>Cumings, Mrs. John Bradley (Florence Briggs Th...</td>\n",
       "      <td>female</td>\n",
       "      <td>38.0</td>\n",
       "      <td>1</td>\n",
       "      <td>0</td>\n",
       "      <td>PC 17599</td>\n",
       "      <td>71.2833</td>\n",
       "      <td>C85</td>\n",
       "      <td>C</td>\n",
       "    </tr>\n",
       "    <tr>\n",
       "      <th>2</th>\n",
       "      <td>3</td>\n",
       "      <td>1</td>\n",
       "      <td>3</td>\n",
       "      <td>Heikkinen, Miss. Laina</td>\n",
       "      <td>female</td>\n",
       "      <td>26.0</td>\n",
       "      <td>0</td>\n",
       "      <td>0</td>\n",
       "      <td>STON/O2. 3101282</td>\n",
       "      <td>7.9250</td>\n",
       "      <td>NaN</td>\n",
       "      <td>S</td>\n",
       "    </tr>\n",
       "    <tr>\n",
       "      <th>3</th>\n",
       "      <td>4</td>\n",
       "      <td>1</td>\n",
       "      <td>1</td>\n",
       "      <td>Futrelle, Mrs. Jacques Heath (Lily May Peel)</td>\n",
       "      <td>female</td>\n",
       "      <td>35.0</td>\n",
       "      <td>1</td>\n",
       "      <td>0</td>\n",
       "      <td>113803</td>\n",
       "      <td>53.1000</td>\n",
       "      <td>C123</td>\n",
       "      <td>S</td>\n",
       "    </tr>\n",
       "    <tr>\n",
       "      <th>4</th>\n",
       "      <td>5</td>\n",
       "      <td>0</td>\n",
       "      <td>3</td>\n",
       "      <td>Allen, Mr. William Henry</td>\n",
       "      <td>male</td>\n",
       "      <td>35.0</td>\n",
       "      <td>0</td>\n",
       "      <td>0</td>\n",
       "      <td>373450</td>\n",
       "      <td>8.0500</td>\n",
       "      <td>NaN</td>\n",
       "      <td>S</td>\n",
       "    </tr>\n",
       "  </tbody>\n",
       "</table>\n",
       "</div>"
      ],
      "text/plain": [
       "   PassengerId  Survived  Pclass  \\\n",
       "0            1         0       3   \n",
       "1            2         1       1   \n",
       "2            3         1       3   \n",
       "3            4         1       1   \n",
       "4            5         0       3   \n",
       "\n",
       "                                                Name     Sex   Age  SibSp  \\\n",
       "0                            Braund, Mr. Owen Harris    male  22.0      1   \n",
       "1  Cumings, Mrs. John Bradley (Florence Briggs Th...  female  38.0      1   \n",
       "2                             Heikkinen, Miss. Laina  female  26.0      0   \n",
       "3       Futrelle, Mrs. Jacques Heath (Lily May Peel)  female  35.0      1   \n",
       "4                           Allen, Mr. William Henry    male  35.0      0   \n",
       "\n",
       "   Parch            Ticket     Fare Cabin Embarked  \n",
       "0      0         A/5 21171   7.2500   NaN        S  \n",
       "1      0          PC 17599  71.2833   C85        C  \n",
       "2      0  STON/O2. 3101282   7.9250   NaN        S  \n",
       "3      0            113803  53.1000  C123        S  \n",
       "4      0            373450   8.0500   NaN        S  "
      ]
     },
     "execution_count": 4,
     "metadata": {},
     "output_type": "execute_result"
    }
   ],
   "source": [
    "#Let's look at first 5 rows of the training dataset\n",
    "train_data.head()"
   ]
  },
  {
   "cell_type": "markdown",
   "id": "d214ab64",
   "metadata": {
    "papermill": {
     "duration": 0.029997,
     "end_time": "2021-11-03T21:57:56.289084",
     "exception": false,
     "start_time": "2021-11-03T21:57:56.259087",
     "status": "completed"
    },
    "tags": []
   },
   "source": [
    "### 3. EDA"
   ]
  },
  {
   "cell_type": "code",
   "execution_count": 5,
   "id": "0ebc0017",
   "metadata": {
    "execution": {
     "iopub.execute_input": "2021-11-03T21:57:56.352176Z",
     "iopub.status.busy": "2021-11-03T21:57:56.351453Z",
     "iopub.status.idle": "2021-11-03T21:57:56.356426Z",
     "shell.execute_reply": "2021-11-03T21:57:56.356927Z",
     "shell.execute_reply.started": "2021-11-03T21:45:35.582673Z"
    },
    "papermill": {
     "duration": 0.03816,
     "end_time": "2021-11-03T21:57:56.357096",
     "exception": false,
     "start_time": "2021-11-03T21:57:56.318936",
     "status": "completed"
    },
    "tags": []
   },
   "outputs": [
    {
     "data": {
      "text/plain": [
       "Index(['PassengerId', 'Survived', 'Pclass', 'Name', 'Sex', 'Age', 'SibSp',\n",
       "       'Parch', 'Ticket', 'Fare', 'Cabin', 'Embarked'],\n",
       "      dtype='object')"
      ]
     },
     "execution_count": 5,
     "metadata": {},
     "output_type": "execute_result"
    }
   ],
   "source": [
    "#Look at the name of the 12 columns\n",
    "train_data.columns"
   ]
  },
  {
   "cell_type": "markdown",
   "id": "76568294",
   "metadata": {
    "papermill": {
     "duration": 0.030005,
     "end_time": "2021-11-03T21:57:56.417347",
     "exception": false,
     "start_time": "2021-11-03T21:57:56.387342",
     "status": "completed"
    },
    "tags": []
   },
   "source": [
    "#### Provided information about columns\n",
    "* Survived: Survival (0 = No; 1 = Yes)\n",
    "* Pclass  : Passenger Class (1 = 1st; 2 = 2nd; 3 = 3rd)\n",
    "* Name    : Name\n",
    "* Sex     : Sex\n",
    "* Age     : Age\n",
    "* Sibsp   : Number of Siblings/Spouses Aboard\n",
    "* Parch   : Number of Parents/Children Aboard\n",
    "* Ticket  : Ticket Number\n",
    "* Fare    : Passenger Fare\n",
    "* Cabin   : Cabin Number\n",
    "* Embarked: Port of Embarkation (C = Cherbourg; Q = Queenstown; S = Southampton)\n"
   ]
  },
  {
   "cell_type": "markdown",
   "id": "e90c34af",
   "metadata": {
    "papermill": {
     "duration": 0.030098,
     "end_time": "2021-11-03T21:57:56.477549",
     "exception": false,
     "start_time": "2021-11-03T21:57:56.447451",
     "status": "completed"
    },
    "tags": []
   },
   "source": []
  },
  {
   "cell_type": "code",
   "execution_count": 6,
   "id": "7ed67870",
   "metadata": {
    "execution": {
     "iopub.execute_input": "2021-11-03T21:57:56.545463Z",
     "iopub.status.busy": "2021-11-03T21:57:56.540334Z",
     "iopub.status.idle": "2021-11-03T21:57:56.570383Z",
     "shell.execute_reply": "2021-11-03T21:57:56.571013Z",
     "shell.execute_reply.started": "2021-11-03T21:45:36.125811Z"
    },
    "papermill": {
     "duration": 0.063599,
     "end_time": "2021-11-03T21:57:56.571200",
     "exception": false,
     "start_time": "2021-11-03T21:57:56.507601",
     "status": "completed"
    },
    "tags": []
   },
   "outputs": [
    {
     "name": "stdout",
     "output_type": "stream",
     "text": [
      "<class 'pandas.core.frame.DataFrame'>\n",
      "RangeIndex: 891 entries, 0 to 890\n",
      "Data columns (total 12 columns):\n",
      " #   Column       Non-Null Count  Dtype  \n",
      "---  ------       --------------  -----  \n",
      " 0   PassengerId  891 non-null    int64  \n",
      " 1   Survived     891 non-null    int64  \n",
      " 2   Pclass       891 non-null    int64  \n",
      " 3   Name         891 non-null    object \n",
      " 4   Sex          891 non-null    object \n",
      " 5   Age          714 non-null    float64\n",
      " 6   SibSp        891 non-null    int64  \n",
      " 7   Parch        891 non-null    int64  \n",
      " 8   Ticket       891 non-null    object \n",
      " 9   Fare         891 non-null    float64\n",
      " 10  Cabin        204 non-null    object \n",
      " 11  Embarked     889 non-null    object \n",
      "dtypes: float64(2), int64(5), object(5)\n",
      "memory usage: 83.7+ KB\n",
      "----------------------------------------\n",
      "<class 'pandas.core.frame.DataFrame'>\n",
      "RangeIndex: 418 entries, 0 to 417\n",
      "Data columns (total 11 columns):\n",
      " #   Column       Non-Null Count  Dtype  \n",
      "---  ------       --------------  -----  \n",
      " 0   PassengerId  418 non-null    int64  \n",
      " 1   Pclass       418 non-null    int64  \n",
      " 2   Name         418 non-null    object \n",
      " 3   Sex          418 non-null    object \n",
      " 4   Age          332 non-null    float64\n",
      " 5   SibSp        418 non-null    int64  \n",
      " 6   Parch        418 non-null    int64  \n",
      " 7   Ticket       418 non-null    object \n",
      " 8   Fare         417 non-null    float64\n",
      " 9   Cabin        91 non-null     object \n",
      " 10  Embarked     418 non-null    object \n",
      "dtypes: float64(2), int64(4), object(5)\n",
      "memory usage: 36.0+ KB\n"
     ]
    }
   ],
   "source": [
    "train_data.info()\n",
    "print('-'*40)\n",
    "test_data.info()"
   ]
  },
  {
   "cell_type": "markdown",
   "id": "ef980cc4",
   "metadata": {
    "papermill": {
     "duration": 0.030264,
     "end_time": "2021-11-03T21:57:56.631960",
     "exception": false,
     "start_time": "2021-11-03T21:57:56.601696",
     "status": "completed"
    },
    "tags": []
   },
   "source": [
    "* Here we have 5 object data type variables i.e. Categorical (Name, Sex, Ticket, Cabin, Embarked)\n",
    "    and the rest are Numerical"
   ]
  },
  {
   "cell_type": "code",
   "execution_count": 7,
   "id": "934b30ab",
   "metadata": {
    "execution": {
     "iopub.execute_input": "2021-11-03T21:57:56.695932Z",
     "iopub.status.busy": "2021-11-03T21:57:56.695322Z",
     "iopub.status.idle": "2021-11-03T21:57:56.704632Z",
     "shell.execute_reply": "2021-11-03T21:57:56.704144Z",
     "shell.execute_reply.started": "2021-11-03T21:45:36.659765Z"
    },
    "papermill": {
     "duration": 0.042384,
     "end_time": "2021-11-03T21:57:56.704766",
     "exception": false,
     "start_time": "2021-11-03T21:57:56.662382",
     "status": "completed"
    },
    "tags": []
   },
   "outputs": [
    {
     "data": {
      "text/plain": [
       "Cabin          687\n",
       "Age            177\n",
       "Embarked         2\n",
       "PassengerId      0\n",
       "Survived         0\n",
       "Pclass           0\n",
       "Name             0\n",
       "Sex              0\n",
       "SibSp            0\n",
       "Parch            0\n",
       "Ticket           0\n",
       "Fare             0\n",
       "dtype: int64"
      ]
     },
     "execution_count": 7,
     "metadata": {},
     "output_type": "execute_result"
    }
   ],
   "source": [
    "#Looking at the null values in the train dataset\n",
    "train_data.isnull().sum().sort_values(ascending=False)"
   ]
  },
  {
   "cell_type": "code",
   "execution_count": 8,
   "id": "e233b2f4",
   "metadata": {
    "execution": {
     "iopub.execute_input": "2021-11-03T21:57:56.774364Z",
     "iopub.status.busy": "2021-11-03T21:57:56.773680Z",
     "iopub.status.idle": "2021-11-03T21:57:57.041007Z",
     "shell.execute_reply": "2021-11-03T21:57:57.041538Z",
     "shell.execute_reply.started": "2021-11-03T21:45:36.674711Z"
    },
    "papermill": {
     "duration": 0.306009,
     "end_time": "2021-11-03T21:57:57.041734",
     "exception": false,
     "start_time": "2021-11-03T21:57:56.735725",
     "status": "completed"
    },
    "tags": []
   },
   "outputs": [
    {
     "data": {
      "text/plain": [
       "<AxesSubplot:>"
      ]
     },
     "execution_count": 8,
     "metadata": {},
     "output_type": "execute_result"
    },
    {
     "data": {
      "image/png": "[encoded data removed]",
      "text/plain": [
       "<Figure size 432x288 with 1 Axes>"
      ]
     },
     "metadata": {
      "needs_background": "light"
     },
     "output_type": "display_data"
    }
   ],
   "source": [
    "#This bar graph is not solving any purpose it's just for the visual \n",
    "train_data.isnull().sum().sort_values(ascending=False).plot(kind='bar')"
   ]
  },
  {
   "cell_type": "code",
   "execution_count": 9,
   "id": "9cf9825b",
   "metadata": {
    "execution": {
     "iopub.execute_input": "2021-11-03T21:57:57.110790Z",
     "iopub.status.busy": "2021-11-03T21:57:57.109708Z",
     "iopub.status.idle": "2021-11-03T21:57:57.118247Z",
     "shell.execute_reply": "2021-11-03T21:57:57.118846Z",
     "shell.execute_reply.started": "2021-11-03T21:45:36.964762Z"
    },
    "papermill": {
     "duration": 0.044663,
     "end_time": "2021-11-03T21:57:57.119022",
     "exception": false,
     "start_time": "2021-11-03T21:57:57.074359",
     "status": "completed"
    },
    "tags": []
   },
   "outputs": [
    {
     "data": {
      "text/plain": [
       "Cabin          327\n",
       "Age             86\n",
       "Fare             1\n",
       "PassengerId      0\n",
       "Pclass           0\n",
       "Name             0\n",
       "Sex              0\n",
       "SibSp            0\n",
       "Parch            0\n",
       "Ticket           0\n",
       "Embarked         0\n",
       "dtype: int64"
      ]
     },
     "execution_count": 9,
     "metadata": {},
     "output_type": "execute_result"
    }
   ],
   "source": [
    "#Looking at the null values in the test dataset\n",
    "test_data.isnull().sum().sort_values(ascending= False)"
   ]
  },
  {
   "cell_type": "code",
   "execution_count": 10,
   "id": "1a972983",
   "metadata": {
    "execution": {
     "iopub.execute_input": "2021-11-03T21:57:57.188639Z",
     "iopub.status.busy": "2021-11-03T21:57:57.187684Z",
     "iopub.status.idle": "2021-11-03T21:57:57.439570Z",
     "shell.execute_reply": "2021-11-03T21:57:57.438979Z",
     "shell.execute_reply.started": "2021-11-03T21:45:37.161585Z"
    },
    "papermill": {
     "duration": 0.288199,
     "end_time": "2021-11-03T21:57:57.439740",
     "exception": false,
     "start_time": "2021-11-03T21:57:57.151541",
     "status": "completed"
    },
    "tags": []
   },
   "outputs": [
    {
     "data": {
      "text/plain": [
       "<AxesSubplot:>"
      ]
     },
     "execution_count": 10,
     "metadata": {},
     "output_type": "execute_result"
    },
    {
     "data": {
      "image/png": "[encoded data removed]",
      "text/plain": [
       "<Figure size 432x288 with 1 Axes>"
      ]
     },
     "metadata": {
      "needs_background": "light"
     },
     "output_type": "display_data"
    }
   ],
   "source": [
    "test_data.isnull().sum().sort_values(ascending= False).plot(kind='bar')"
   ]
  },
  {
   "cell_type": "markdown",
   "id": "a5168b58",
   "metadata": {
    "papermill": {
     "duration": 0.033677,
     "end_time": "2021-11-03T21:57:57.506995",
     "exception": false,
     "start_time": "2021-11-03T21:57:57.473318",
     "status": "completed"
    },
    "tags": []
   },
   "source": [
    "What sorts of people were more likely to survive?” using passenger data (ie name, age, gender, socio-economic class, etc)."
   ]
  },
  {
   "cell_type": "markdown",
   "id": "828270d7",
   "metadata": {
    "papermill": {
     "duration": 0.033535,
     "end_time": "2021-11-03T21:57:57.573990",
     "exception": false,
     "start_time": "2021-11-03T21:57:57.540455",
     "status": "completed"
    },
    "tags": []
   },
   "source": [
    "#### UNIVARIATE ANALYSIS \n",
    "##### It is the simplest form of statistical analysis. Uni means \"One\" so that means analyzing each variable in the data. In univariate analysis we are not looking at cause or relationship between variables\n",
    "\n",
    "Let's start looking at variables one by one starting with Survived (target variable)"
   ]
  },
  {
   "cell_type": "code",
   "execution_count": 11,
   "id": "330a978c",
   "metadata": {
    "execution": {
     "iopub.execute_input": "2021-11-03T21:57:57.648014Z",
     "iopub.status.busy": "2021-11-03T21:57:57.647171Z",
     "iopub.status.idle": "2021-11-03T21:57:57.650352Z",
     "shell.execute_reply": "2021-11-03T21:57:57.650858Z",
     "shell.execute_reply.started": "2021-11-03T21:45:37.633207Z"
    },
    "papermill": {
     "duration": 0.043815,
     "end_time": "2021-11-03T21:57:57.651025",
     "exception": false,
     "start_time": "2021-11-03T21:57:57.607210",
     "status": "completed"
    },
    "tags": []
   },
   "outputs": [
    {
     "data": {
      "text/plain": [
       "0    549\n",
       "1    342\n",
       "Name: Survived, dtype: int64"
      ]
     },
     "execution_count": 11,
     "metadata": {},
     "output_type": "execute_result"
    }
   ],
   "source": [
    "#how many out of total(train) survived on titanic\n",
    "train_data['Survived'].value_counts()"
   ]
  },
  {
   "cell_type": "code",
   "execution_count": 12,
   "id": "ada6eb29",
   "metadata": {
    "execution": {
     "iopub.execute_input": "2021-11-03T21:57:57.728308Z",
     "iopub.status.busy": "2021-11-03T21:57:57.727501Z",
     "iopub.status.idle": "2021-11-03T21:57:57.730676Z",
     "shell.execute_reply": "2021-11-03T21:57:57.731198Z",
     "shell.execute_reply.started": "2021-11-03T21:45:37.832879Z"
    },
    "papermill": {
     "duration": 0.046688,
     "end_time": "2021-11-03T21:57:57.731372",
     "exception": false,
     "start_time": "2021-11-03T21:57:57.684684",
     "status": "completed"
    },
    "tags": []
   },
   "outputs": [
    {
     "data": {
      "text/plain": [
       "Sex\n",
       "female    0.742038\n",
       "male      0.188908\n",
       "Name: Survived, dtype: float64"
      ]
     },
     "execution_count": 12,
     "metadata": {},
     "output_type": "execute_result"
    }
   ],
   "source": [
    "#categorical variable\n",
    "#how many women survived on the titanic\n",
    "train_data.groupby('Sex')['Survived'].mean()"
   ]
  },
  {
   "cell_type": "markdown",
   "id": "ba2318e0",
   "metadata": {
    "papermill": {
     "duration": 0.033753,
     "end_time": "2021-11-03T21:57:57.799131",
     "exception": false,
     "start_time": "2021-11-03T21:57:57.765378",
     "status": "completed"
    },
    "tags": []
   },
   "source": [
    "* 74% women out of total survived were women"
   ]
  },
  {
   "cell_type": "code",
   "execution_count": 13,
   "id": "23f6a0dc",
   "metadata": {
    "execution": {
     "iopub.execute_input": "2021-11-03T21:57:57.874183Z",
     "iopub.status.busy": "2021-11-03T21:57:57.873500Z",
     "iopub.status.idle": "2021-11-03T21:57:57.877663Z",
     "shell.execute_reply": "2021-11-03T21:57:57.877164Z",
     "shell.execute_reply.started": "2021-11-03T21:45:38.410795Z"
    },
    "papermill": {
     "duration": 0.044034,
     "end_time": "2021-11-03T21:57:57.877817",
     "exception": false,
     "start_time": "2021-11-03T21:57:57.833783",
     "status": "completed"
    },
    "tags": []
   },
   "outputs": [
    {
     "data": {
      "text/plain": [
       "3    491\n",
       "1    216\n",
       "2    184\n",
       "Name: Pclass, dtype: int64"
      ]
     },
     "execution_count": 13,
     "metadata": {},
     "output_type": "execute_result"
    }
   ],
   "source": [
    "#PCLASS - 1ST, 2ND,3RD\n",
    "train_data.Pclass.value_counts()"
   ]
  },
  {
   "cell_type": "code",
   "execution_count": 14,
   "id": "81dab33d",
   "metadata": {
    "execution": {
     "iopub.execute_input": "2021-11-03T21:57:57.954227Z",
     "iopub.status.busy": "2021-11-03T21:57:57.953575Z",
     "iopub.status.idle": "2021-11-03T21:57:57.956901Z",
     "shell.execute_reply": "2021-11-03T21:57:57.956281Z",
     "shell.execute_reply.started": "2021-11-03T21:45:38.500715Z"
    },
    "papermill": {
     "duration": 0.044704,
     "end_time": "2021-11-03T21:57:57.957035",
     "exception": false,
     "start_time": "2021-11-03T21:57:57.912331",
     "status": "completed"
    },
    "tags": []
   },
   "outputs": [
    {
     "data": {
      "text/plain": [
       "Pclass\n",
       "1    0.629630\n",
       "2    0.472826\n",
       "3    0.242363\n",
       "Name: Survived, dtype: float64"
      ]
     },
     "execution_count": 14,
     "metadata": {},
     "output_type": "execute_result"
    }
   ],
   "source": [
    "train_data.groupby('Pclass')['Survived'].mean()"
   ]
  },
  {
   "cell_type": "markdown",
   "id": "57411e2c",
   "metadata": {
    "papermill": {
     "duration": 0.034911,
     "end_time": "2021-11-03T21:57:58.026528",
     "exception": false,
     "start_time": "2021-11-03T21:57:57.991617",
     "status": "completed"
    },
    "tags": []
   },
   "source": [
    "* 25% of people from third class survived the titanic compared to 63% for first class"
   ]
  },
  {
   "cell_type": "code",
   "execution_count": 15,
   "id": "86fcdaa9",
   "metadata": {
    "execution": {
     "iopub.execute_input": "2021-11-03T21:57:58.103355Z",
     "iopub.status.busy": "2021-11-03T21:57:58.102640Z",
     "iopub.status.idle": "2021-11-03T21:57:58.106506Z",
     "shell.execute_reply": "2021-11-03T21:57:58.105997Z",
     "shell.execute_reply.started": "2021-11-03T21:45:38.964326Z"
    },
    "papermill": {
     "duration": 0.045017,
     "end_time": "2021-11-03T21:57:58.106648",
     "exception": false,
     "start_time": "2021-11-03T21:57:58.061631",
     "status": "completed"
    },
    "tags": []
   },
   "outputs": [
    {
     "data": {
      "text/plain": [
       "S    644\n",
       "C    168\n",
       "Q     77\n",
       "Name: Embarked, dtype: int64"
      ]
     },
     "execution_count": 15,
     "metadata": {},
     "output_type": "execute_result"
    }
   ],
   "source": [
    "#EMBARKED\n",
    "train_data.Embarked.value_counts()"
   ]
  },
  {
   "cell_type": "code",
   "execution_count": 16,
   "id": "686bcf60",
   "metadata": {
    "execution": {
     "iopub.execute_input": "2021-11-03T21:57:58.186066Z",
     "iopub.status.busy": "2021-11-03T21:57:58.185381Z",
     "iopub.status.idle": "2021-11-03T21:57:58.189013Z",
     "shell.execute_reply": "2021-11-03T21:57:58.188162Z",
     "shell.execute_reply.started": "2021-11-03T21:45:39.462071Z"
    },
    "papermill": {
     "duration": 0.04691,
     "end_time": "2021-11-03T21:57:58.189190",
     "exception": false,
     "start_time": "2021-11-03T21:57:58.142280",
     "status": "completed"
    },
    "tags": []
   },
   "outputs": [
    {
     "data": {
      "text/plain": [
       "Embarked\n",
       "C    0.553571\n",
       "Q    0.389610\n",
       "S    0.336957\n",
       "Name: Survived, dtype: float64"
      ]
     },
     "execution_count": 16,
     "metadata": {},
     "output_type": "execute_result"
    }
   ],
   "source": [
    "train_data.groupby('Embarked')['Survived'].mean()"
   ]
  },
  {
   "cell_type": "code",
   "execution_count": 17,
   "id": "432932e5",
   "metadata": {
    "execution": {
     "iopub.execute_input": "2021-11-03T21:57:58.268490Z",
     "iopub.status.busy": "2021-11-03T21:57:58.266026Z",
     "iopub.status.idle": "2021-11-03T21:57:58.272657Z",
     "shell.execute_reply": "2021-11-03T21:57:58.272121Z",
     "shell.execute_reply.started": "2021-11-03T21:45:39.473162Z"
    },
    "papermill": {
     "duration": 0.04764,
     "end_time": "2021-11-03T21:57:58.272796",
     "exception": false,
     "start_time": "2021-11-03T21:57:58.225156",
     "status": "completed"
    },
    "tags": []
   },
   "outputs": [
    {
     "data": {
      "text/plain": [
       "SibSp\n",
       "1    0.535885\n",
       "2    0.464286\n",
       "0    0.345395\n",
       "3    0.250000\n",
       "4    0.166667\n",
       "5    0.000000\n",
       "8    0.000000\n",
       "Name: Survived, dtype: float64"
      ]
     },
     "execution_count": 17,
     "metadata": {},
     "output_type": "execute_result"
    }
   ],
   "source": [
    "#SibSp- Number of siblings\n",
    "train_data.groupby('SibSp')['Survived'].mean().sort_values(ascending=False)"
   ]
  },
  {
   "cell_type": "code",
   "execution_count": 18,
   "id": "27c80b6e",
   "metadata": {
    "execution": {
     "iopub.execute_input": "2021-11-03T21:57:58.354126Z",
     "iopub.status.busy": "2021-11-03T21:57:58.353439Z",
     "iopub.status.idle": "2021-11-03T21:57:58.355948Z",
     "shell.execute_reply": "2021-11-03T21:57:58.356475Z",
     "shell.execute_reply.started": "2021-11-03T21:45:40.900854Z"
    },
    "papermill": {
     "duration": 0.047545,
     "end_time": "2021-11-03T21:57:58.356645",
     "exception": false,
     "start_time": "2021-11-03T21:57:58.309100",
     "status": "completed"
    },
    "tags": []
   },
   "outputs": [
    {
     "data": {
      "text/plain": [
       "Parch\n",
       "3    0.600000\n",
       "1    0.550847\n",
       "2    0.500000\n",
       "0    0.343658\n",
       "5    0.200000\n",
       "4    0.000000\n",
       "6    0.000000\n",
       "Name: Survived, dtype: float64"
      ]
     },
     "execution_count": 18,
     "metadata": {},
     "output_type": "execute_result"
    }
   ],
   "source": [
    "#Parch- Number of parents/childer aboard\n",
    "train_data.groupby('Parch')['Survived'].mean().sort_values(ascending=False)"
   ]
  },
  {
   "cell_type": "markdown",
   "id": "efc9c320",
   "metadata": {
    "papermill": {
     "duration": 0.036577,
     "end_time": "2021-11-03T21:57:58.429354",
     "exception": false,
     "start_time": "2021-11-03T21:57:58.392777",
     "status": "completed"
    },
    "tags": []
   },
   "source": [
    "### Data Visualization\n",
    "#### Categorical features\n",
    "\n",
    "These are the visual representation of all the above variables. It makes it easy to view in one place"
   ]
  },
  {
   "cell_type": "code",
   "execution_count": 19,
   "id": "8243b3da",
   "metadata": {
    "execution": {
     "iopub.execute_input": "2021-11-03T21:57:58.504878Z",
     "iopub.status.busy": "2021-11-03T21:57:58.504194Z",
     "iopub.status.idle": "2021-11-03T21:57:59.706187Z",
     "shell.execute_reply": "2021-11-03T21:57:59.706709Z",
     "shell.execute_reply.started": "2021-11-03T21:45:41.914999Z"
    },
    "papermill": {
     "duration": 1.241594,
     "end_time": "2021-11-03T21:57:59.706914",
     "exception": false,
     "start_time": "2021-11-03T21:57:58.465320",
     "status": "completed"
    },
    "tags": []
   },
   "outputs": [
    {
     "data": {
      "image/png": "[encoded data removed]",
      "text/plain": [
       "<Figure size 720x720 with 6 Axes>"
      ]
     },
     "metadata": {},
     "output_type": "display_data"
    }
   ],
   "source": [
    "#let's create countplot for all the categorical features \n",
    "countplot_features = ['Survived','Sex','Pclass','Embarked','SibSp','Parch']\n",
    "countlist = list(enumerate(countplot_features)) #enumerate map the iteration value with each variable in list\n",
    "\n",
    "plt.style.use('ggplot')\n",
    "plt.figure(figsize=(10,10))\n",
    "plt.suptitle('Countplot of Categorical features') #main title\n",
    "\n",
    "for i in countlist:\n",
    "    plt.subplot(2,3,i[0]+1) #2 means 2 rows and 3 means 3 columns and i[0]+1 the position of plot where i[0] means return 1st element of enumerate i.e. iterable 0,1,2,3,..\n",
    "    sns.countplot(data = train_data , x=i[1],hue = 'Survived')\n",
    "    plt.legend(['Not Survived','Survived'])\n",
    "    \n",
    "plt.tight_layout()\n",
    "plt.show()\n",
    "    "
   ]
  },
  {
   "cell_type": "markdown",
   "id": "e4d5a108",
   "metadata": {
    "papermill": {
     "duration": 0.037331,
     "end_time": "2021-11-03T21:57:59.782116",
     "exception": false,
     "start_time": "2021-11-03T21:57:59.744785",
     "status": "completed"
    },
    "tags": []
   },
   "source": [
    "#### Numerical Features"
   ]
  },
  {
   "cell_type": "code",
   "execution_count": 20,
   "id": "429718cf",
   "metadata": {
    "execution": {
     "iopub.execute_input": "2021-11-03T21:57:59.889855Z",
     "iopub.status.busy": "2021-11-03T21:57:59.888847Z",
     "iopub.status.idle": "2021-11-03T21:58:00.626192Z",
     "shell.execute_reply": "2021-11-03T21:58:00.625519Z",
     "shell.execute_reply.started": "2021-11-03T21:45:43.012137Z"
    },
    "papermill": {
     "duration": 0.806363,
     "end_time": "2021-11-03T21:58:00.626333",
     "exception": false,
     "start_time": "2021-11-03T21:57:59.819970",
     "status": "completed"
    },
    "tags": []
   },
   "outputs": [
    {
     "data": {
      "image/png": "[encoded data removed]",
      "text/plain": [
       "<Figure size 864x360 with 4 Axes>"
      ]
     },
     "metadata": {},
     "output_type": "display_data"
    }
   ],
   "source": [
    "#look at the distribution of numerical variables i.e. Age and Fare\n",
    "\n",
    "num_features = ['Age','Fare']\n",
    "num_list = list(enumerate(num_features))\n",
    "\n",
    "plt.figure(figsize = (12,5))\n",
    "plt.suptitle('Distribution and Outliers of Numerical features')\n",
    "\n",
    "for i in num_list:\n",
    "    plt.subplot(1,4,i[0]+1)\n",
    "    sns.boxplot(data=train_data[i[1]])\n",
    "    plt.xlabel(str(i[1]))\n",
    "    \n",
    "for i in num_list:\n",
    "    plt.subplot(1,4,i[0]+3)\n",
    "    sns.histplot(data = train_data[i[1]])\n",
    "    plt.xlabel(str(i[1]))\n",
    "    \n",
    "plt.show()"
   ]
  },
  {
   "cell_type": "code",
   "execution_count": 21,
   "id": "07387e31",
   "metadata": {
    "execution": {
     "iopub.execute_input": "2021-11-03T21:58:00.708652Z",
     "iopub.status.busy": "2021-11-03T21:58:00.707687Z",
     "iopub.status.idle": "2021-11-03T21:58:01.241087Z",
     "shell.execute_reply": "2021-11-03T21:58:01.240395Z",
     "shell.execute_reply.started": "2021-11-03T21:45:43.969087Z"
    },
    "papermill": {
     "duration": 0.575802,
     "end_time": "2021-11-03T21:58:01.241236",
     "exception": false,
     "start_time": "2021-11-03T21:58:00.665434",
     "status": "completed"
    },
    "tags": []
   },
   "outputs": [
    {
     "data": {
      "image/png": "[encoded data removed]",
      "text/plain": [
       "<Figure size 1008x504 with 2 Axes>"
      ]
     },
     "metadata": {},
     "output_type": "display_data"
    }
   ],
   "source": [
    "plt.figure(figsize=(14,7))\n",
    "plt.suptitle('Distribution and Kernal density estimation of numerical features')\n",
    "\n",
    "for i in num_list:\n",
    "    plt.subplot(2,1,i[0]+1)\n",
    "    sns.histplot(data=train_data[i[1]],kde=True,bins=30)\n",
    "    plt.xlabel(str(i[1]))\n",
    "    \n",
    "plt.show()"
   ]
  },
  {
   "cell_type": "markdown",
   "id": "a68a2d9d",
   "metadata": {
    "papermill": {
     "duration": 0.040244,
     "end_time": "2021-11-03T21:58:01.322249",
     "exception": false,
     "start_time": "2021-11-03T21:58:01.282005",
     "status": "completed"
    },
    "tags": []
   },
   "source": [
    "### Bivariate and Multivariate analysis\n",
    "\n",
    "As we have all the information about the independent variables, let's try to analyze the relationship between these independent variables and how they are correlated\n"
   ]
  },
  {
   "cell_type": "code",
   "execution_count": 22,
   "id": "af6d0123",
   "metadata": {
    "execution": {
     "iopub.execute_input": "2021-11-03T21:58:01.418714Z",
     "iopub.status.busy": "2021-11-03T21:58:01.417688Z",
     "iopub.status.idle": "2021-11-03T21:58:01.766287Z",
     "shell.execute_reply": "2021-11-03T21:58:01.766739Z",
     "shell.execute_reply.started": "2021-11-03T21:45:44.515438Z"
    },
    "papermill": {
     "duration": 0.403088,
     "end_time": "2021-11-03T21:58:01.766930",
     "exception": false,
     "start_time": "2021-11-03T21:58:01.363842",
     "status": "completed"
    },
    "tags": []
   },
   "outputs": [
    {
     "data": {
      "text/plain": [
       "<AxesSubplot:title={'center':'Correlation of independent variable with dependent variable (Survived)'}>"
      ]
     },
     "execution_count": 22,
     "metadata": {},
     "output_type": "execute_result"
    },
    {
     "data": {
      "image/png": "[encoded data removed]",
      "text/plain": [
       "<Figure size 720x432 with 2 Axes>"
      ]
     },
     "metadata": {},
     "output_type": "display_data"
    }
   ],
   "source": [
    "plt.figure(figsize=(10,6))\n",
    "plt.title('Correlation of independent variable with dependent variable (Survived)')\n",
    "\n",
    "corr=train_data.corr()\n",
    "sns.heatmap(corr,cmap='Blues')"
   ]
  },
  {
   "cell_type": "code",
   "execution_count": 23,
   "id": "7ae6ce44",
   "metadata": {
    "execution": {
     "iopub.execute_input": "2021-11-03T21:58:01.855284Z",
     "iopub.status.busy": "2021-11-03T21:58:01.854281Z",
     "iopub.status.idle": "2021-11-03T21:58:02.121162Z",
     "shell.execute_reply": "2021-11-03T21:58:02.121652Z",
     "shell.execute_reply.started": "2021-11-03T21:45:44.867664Z"
    },
    "papermill": {
     "duration": 0.312907,
     "end_time": "2021-11-03T21:58:02.121865",
     "exception": false,
     "start_time": "2021-11-03T21:58:01.808958",
     "status": "completed"
    },
    "tags": []
   },
   "outputs": [
    {
     "data": {
      "image/png": "[encoded data removed]",
      "text/plain": [
       "<Figure size 720x576 with 1 Axes>"
      ]
     },
     "metadata": {},
     "output_type": "display_data"
    }
   ],
   "source": [
    "plt.figure(figsize=(10,8))\n",
    "plt.title('Correlation of independent variable with dependent variable (Survived)')\n",
    "\n",
    "plt.style.use('fivethirtyeight')\n",
    "corr1 = train_data.corr()['Survived'].sort_values(ascending=False)[1:]\n",
    "sns.barplot(x=corr1.index,y = corr1, color=(0.90,0.30,0.50))\n",
    "plt.tight_layout()\n",
    "plt.show()"
   ]
  },
  {
   "cell_type": "markdown",
   "id": "ebeb53df",
   "metadata": {
    "papermill": {
     "duration": 0.044377,
     "end_time": "2021-11-03T21:58:02.209899",
     "exception": false,
     "start_time": "2021-11-03T21:58:02.165522",
     "status": "completed"
    },
    "tags": []
   },
   "source": [
    "Looking at the above image, it can be observed that:\n",
    "1. People had a higher chance of survival if they had a higher fair "
   ]
  },
  {
   "cell_type": "code",
   "execution_count": 24,
   "id": "7c5e156f",
   "metadata": {
    "execution": {
     "iopub.execute_input": "2021-11-03T21:58:02.300608Z",
     "iopub.status.busy": "2021-11-03T21:58:02.299993Z",
     "iopub.status.idle": "2021-11-03T21:58:02.849214Z",
     "shell.execute_reply": "2021-11-03T21:58:02.848682Z",
     "shell.execute_reply.started": "2021-11-03T21:45:46.935664Z"
    },
    "papermill": {
     "duration": 0.596,
     "end_time": "2021-11-03T21:58:02.849358",
     "exception": false,
     "start_time": "2021-11-03T21:58:02.253358",
     "status": "completed"
    },
    "tags": []
   },
   "outputs": [
    {
     "data": {
      "image/png": "[encoded data removed]",
      "text/plain": [
       "<Figure size 1080x360 with 2 Axes>"
      ]
     },
     "metadata": {},
     "output_type": "display_data"
    }
   ],
   "source": [
    "plt.figure(figsize=(15,5))\n",
    "plt.suptitle(\"Probability Distribution of numerical columns according to number of Survived\", fontsize = 20)\n",
    "for i in num_list:\n",
    "    plt.subplot(1,2,i[0]+1)\n",
    "    sns.kdeplot(data=train_data, x=i[1], hue=\"Survived\")\n",
    "plt.tight_layout()\n",
    "plt.show()"
   ]
  },
  {
   "cell_type": "markdown",
   "id": "e81a4283",
   "metadata": {
    "papermill": {
     "duration": 0.046474,
     "end_time": "2021-11-03T21:58:02.942105",
     "exception": false,
     "start_time": "2021-11-03T21:58:02.895631",
     "status": "completed"
    },
    "tags": []
   },
   "source": [
    "## Feature Engineering and Model Building\n",
    "I am still learning how to build models and I will cover this topic in the next notebook. Stay tuned. \n",
    "\n",
    "Thank You 😊 "
   ]
  },
  {
   "cell_type": "code",
   "execution_count": null,
   "id": "0dac0bf8",
   "metadata": {
    "papermill": {
     "duration": 0.04808,
     "end_time": "2021-11-03T21:58:03.037681",
     "exception": false,
     "start_time": "2021-11-03T21:58:02.989601",
     "status": "completed"
    },
    "tags": []
   },
   "outputs": [],
   "source": []
  }
 ],
 "metadata": {
  "kernelspec": {
   "display_name": "Python 3",
   "language": "python",
   "name": "python3"
  },
  "language_info": {
   "codemirror_mode": {
    "name": "ipython",
    "version": 3
   },
   "file_extension": ".py",
   "mimetype": "text/x-python",
   "name": "python",
   "nbconvert_exporter": "python",
   "pygments_lexer": "ipython3",
   "version": "3.7.10"
  },
  "papermill": {
   "default_parameters": {},
   "duration": 17.442954,
   "end_time": "2021-11-03T21:58:03.794325",
   "environment_variables": {},
   "exception": null,
   "input_path": "__notebook__.ipynb",
   "output_path": "__notebook__.ipynb",
   "parameters": {},
   "start_time": "2021-11-03T21:57:46.351371",
   "version": "2.3.3"
  }
 },
 "nbformat": 4,
 "nbformat_minor": 5
}
